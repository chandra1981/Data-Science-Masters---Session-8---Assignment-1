{
 "cells": [
  {
   "cell_type": "markdown",
   "metadata": {},
   "source": [
    "Problem 1) How-to-count-distance-to-the-previous-zero\n",
    "\n",
    "For each value, count the difference of the distance from the previous zero (or the start\n",
    "of the Series, whichever is closer) and if there are no previous zeros,print the position\n",
    "\n",
    "Consider a DataFrame df where there is an integer column {'X':[7, 2, 0, 3, 4, 2, 5, 0, 3, 4]}\n",
    " \n",
    "The values should therefore be [1, 2, 0, 1, 2, 3, 4, 0, 1, 2]. Make this a new column 'Y'.\n",
    " \n",
    "import pandas as pd\n",
    "\n",
    "df = pd.DataFrame({'X': [7, 2, 0, 3, 4, 2, 5, 0, 3, 4]})\n"
   ]
  },
  {
   "cell_type": "code",
   "execution_count": 4,
   "metadata": {},
   "outputs": [],
   "source": [
    "import pandas as pd\n",
    "X=[7,2,0,3,4,2,5,0,3,4]\n",
    "df = pd.DataFrame({'X': [7, 2, 0, 3, 4, 2, 5, 0, 3, 4]})\n",
    "x = (df['X'] != 0).cumsum()\n",
    "y = x != x.shift()\n",
    "df['Y'] = y.groupby((y != y.shift()).cumsum()).cumsum()"
   ]
  },
  {
   "cell_type": "code",
   "execution_count": 33,
   "metadata": {},
   "outputs": [
    {
     "data": {
      "text/plain": [
       "0    1.0\n",
       "1    2.0\n",
       "2    0.0\n",
       "3    1.0\n",
       "4    2.0\n",
       "5    3.0\n",
       "6    4.0\n",
       "7    0.0\n",
       "8    1.0\n",
       "9    2.0\n",
       "Name: Y, dtype: float64"
      ]
     },
     "execution_count": 33,
     "metadata": {},
     "output_type": "execute_result"
    }
   ],
   "source": [
    "df['Y']"
   ]
  },
  {
   "cell_type": "markdown",
   "metadata": {},
   "source": [
    "Problem 2) Create a DatetimeIndex that contains each business day of 2015 and use it to index a\n",
    "Series of random numbers.\n"
   ]
  },
  {
   "cell_type": "code",
   "execution_count": 38,
   "metadata": {},
   "outputs": [],
   "source": [
    "import numpy as np\n",
    "dt = pd.date_range(start='2015-01-01', end='2015-12-31',  freq='B') \n",
    "s = pd.Series(np.random.rand(len(dt)), index=dt)"
   ]
  },
  {
   "cell_type": "code",
   "execution_count": 39,
   "metadata": {},
   "outputs": [
    {
     "data": {
      "text/plain": [
       "2015-01-01    0.297500\n",
       "2015-01-02    0.551801\n",
       "2015-01-05    0.206617\n",
       "2015-01-06    0.108365\n",
       "2015-01-07    0.371343\n",
       "2015-01-08    0.027822\n",
       "2015-01-09    0.426957\n",
       "2015-01-12    0.605817\n",
       "2015-01-13    0.893346\n",
       "2015-01-14    0.308453\n",
       "2015-01-15    0.461064\n",
       "2015-01-16    0.114559\n",
       "2015-01-19    0.575130\n",
       "2015-01-20    0.051667\n",
       "2015-01-21    0.843659\n",
       "2015-01-22    0.417355\n",
       "2015-01-23    0.470276\n",
       "2015-01-26    0.810707\n",
       "2015-01-27    0.371598\n",
       "2015-01-28    0.953556\n",
       "2015-01-29    0.610494\n",
       "2015-01-30    0.101648\n",
       "2015-02-02    0.436389\n",
       "2015-02-03    0.334359\n",
       "2015-02-04    0.052373\n",
       "2015-02-05    0.799882\n",
       "2015-02-06    0.262935\n",
       "2015-02-09    0.979496\n",
       "2015-02-10    0.350652\n",
       "2015-02-11    0.374419\n",
       "                ...   \n",
       "2015-11-20    0.556526\n",
       "2015-11-23    0.192068\n",
       "2015-11-24    0.233693\n",
       "2015-11-25    0.522589\n",
       "2015-11-26    0.525369\n",
       "2015-11-27    0.405876\n",
       "2015-11-30    0.442162\n",
       "2015-12-01    0.344518\n",
       "2015-12-02    0.282315\n",
       "2015-12-03    0.001461\n",
       "2015-12-04    0.032036\n",
       "2015-12-07    0.984947\n",
       "2015-12-08    0.243306\n",
       "2015-12-09    0.706809\n",
       "2015-12-10    0.412783\n",
       "2015-12-11    0.696353\n",
       "2015-12-14    0.332703\n",
       "2015-12-15    0.868212\n",
       "2015-12-16    0.684797\n",
       "2015-12-17    0.957324\n",
       "2015-12-18    0.976374\n",
       "2015-12-21    0.085419\n",
       "2015-12-22    0.550460\n",
       "2015-12-23    0.182496\n",
       "2015-12-24    0.934704\n",
       "2015-12-25    0.344625\n",
       "2015-12-28    0.272059\n",
       "2015-12-29    0.516485\n",
       "2015-12-30    0.074030\n",
       "2015-12-31    0.196914\n",
       "Freq: B, Length: 261, dtype: float64"
      ]
     },
     "execution_count": 39,
     "metadata": {},
     "output_type": "execute_result"
    }
   ],
   "source": [
    "s"
   ]
  },
  {
   "cell_type": "markdown",
   "metadata": {},
   "source": [
    "Problem 3) Find the sum of the values in s for every Wednesday\n"
   ]
  },
  {
   "cell_type": "code",
   "execution_count": 40,
   "metadata": {},
   "outputs": [
    {
     "data": {
      "text/plain": [
       "24.7249020224742"
      ]
     },
     "execution_count": 40,
     "metadata": {},
     "output_type": "execute_result"
    }
   ],
   "source": [
    "s[dt.weekday == 2].sum()"
   ]
  },
  {
   "cell_type": "markdown",
   "metadata": {},
   "source": [
    "Problem 4) Average For each calendar month\n"
   ]
  },
  {
   "cell_type": "code",
   "execution_count": 42,
   "metadata": {},
   "outputs": [
    {
     "data": {
      "text/plain": [
       "2015-01-31    0.435442\n",
       "2015-02-28    0.443413\n",
       "2015-03-31    0.531779\n",
       "2015-04-30    0.476764\n",
       "2015-05-31    0.542791\n",
       "2015-06-30    0.500907\n",
       "2015-07-31    0.437432\n",
       "2015-08-31    0.484527\n",
       "2015-09-30    0.583359\n",
       "2015-10-31    0.622353\n",
       "2015-11-30    0.451113\n",
       "2015-12-31    0.464397\n",
       "Freq: M, dtype: float64"
      ]
     },
     "execution_count": 42,
     "metadata": {},
     "output_type": "execute_result"
    }
   ],
   "source": [
    "s.resample('M').mean()"
   ]
  },
  {
   "cell_type": "markdown",
   "metadata": {},
   "source": [
    "Problem 5) For each group of four consecutive calendar months in s, find the date on which the\n",
    "highest value occurred."
   ]
  },
  {
   "cell_type": "code",
   "execution_count": 44,
   "metadata": {},
   "outputs": [
    {
     "data": {
      "text/plain": [
       "2015-01-31   2015-01-28\n",
       "2015-05-31   2015-05-01\n",
       "2015-09-30   2015-06-22\n",
       "2016-01-31   2015-12-07\n",
       "dtype: datetime64[ns]"
      ]
     },
     "execution_count": 44,
     "metadata": {},
     "output_type": "execute_result"
    }
   ],
   "source": [
    "s.groupby(pd.Grouper(freq='4M')).idxmax()"
   ]
  },
  {
   "cell_type": "code",
   "execution_count": null,
   "metadata": {},
   "outputs": [],
   "source": [
    "END OF ASSIGNMENT "
   ]
  }
 ],
 "metadata": {
  "kernelspec": {
   "display_name": "Python 3",
   "language": "python",
   "name": "python3"
  },
  "language_info": {
   "codemirror_mode": {
    "name": "ipython",
    "version": 3
   },
   "file_extension": ".py",
   "mimetype": "text/x-python",
   "name": "python",
   "nbconvert_exporter": "python",
   "pygments_lexer": "ipython3",
   "version": "3.6.5"
  }
 },
 "nbformat": 4,
 "nbformat_minor": 2
}
